{
  "nbformat": 4,
  "nbformat_minor": 0,
  "metadata": {
    "colab": {
      "provenance": [],
      "authorship_tag": "ABX9TyMe4e+wgsjzp39ojDjn3eob",
      "include_colab_link": true
    },
    "kernelspec": {
      "name": "python3",
      "display_name": "Python 3"
    },
    "language_info": {
      "name": "python"
    }
  },
  "cells": [
    {
      "cell_type": "markdown",
      "metadata": {
        "id": "view-in-github",
        "colab_type": "text"
      },
      "source": [
        "<a href=\"https://colab.research.google.com/github/PAULTYLER192/Machine_learning_/blob/master/simple_dataframe.ipynb\" target=\"_parent\"><img src=\"https://colab.research.google.com/assets/colab-badge.svg\" alt=\"Open In Colab\"/></a>"
      ]
    },
    {
      "cell_type": "code",
      "execution_count": 3,
      "metadata": {
        "id": "PVix1iYaBEDD",
        "colab": {
          "base_uri": "https://localhost:8080/"
        },
        "outputId": "3f8d37c4-370e-4633-e94f-839f800edd72"
      },
      "outputs": [
        {
          "output_type": "stream",
          "name": "stdout",
          "text": [
            "    Name  Age         City  Salary\n",
            "0   John   28     New York   70000\n",
            "1  Alice   34  Los Angeles   80000\n",
            "2    Bob   45      Chicago   50000\n",
            "3  Diana   29       Boston   60000\n"
          ]
        }
      ],
      "source": [
        "import pandas as pd\n",
        "\n",
        "# Create the DataFrame\n",
        "data = {\n",
        "    \"Name\": [\"John\", \"Alice\", \"Bob\", \"Diana\"],\n",
        "    \"Age\": [28, 34, 45, 29],\n",
        "    \"City\": [\"New York\", \"Los Angeles\", \"Chicago\", \"Boston\"],\n",
        "    \"Salary\": [70000, 80000, 50000, 60000]\n",
        "}\n",
        "df = pd.DataFrame(data)\n",
        "\n",
        "# Display the DataFrame\n",
        "print(df)"
      ]
    }
  ]
}