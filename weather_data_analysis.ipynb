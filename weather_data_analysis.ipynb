{
 "cells": [
  {
   "cell_type": "code",
   "execution_count": 2,
   "id": "7e259176-3c63-4023-960b-0f440e89b2f8",
   "metadata": {},
   "outputs": [],
   "source": [
    "import numpy as np"
   ]
  },
  {
   "cell_type": "code",
   "execution_count": 4,
   "id": "832e73b3-f5ef-4e6b-80a4-88187f00ff0c",
   "metadata": {},
   "outputs": [],
   "source": [
    "#temperature in degree celcius for a week in my city\n",
    "temperature = np.array([25,28,31,30,26,29,32])"
   ]
  },
  {
   "cell_type": "code",
   "execution_count": 6,
   "id": "acde0b74-5e6a-4cf1-ab4e-3eaa6c29224e",
   "metadata": {},
   "outputs": [],
   "source": [
    "#average temperature\n",
    "average_temp = np.mean(temperature)"
   ]
  },
  {
   "cell_type": "code",
   "execution_count": 8,
   "id": "5d960943-87e4-4d2d-96cd-ea26209b4d1f",
   "metadata": {},
   "outputs": [
    {
     "name": "stdout",
     "output_type": "stream",
     "text": [
      "Average Temperature:  28.714285714285715\n"
     ]
    }
   ],
   "source": [
    "print(\"Average Temperature: \",average_temp)"
   ]
  },
  {
   "cell_type": "code",
   "execution_count": 10,
   "id": "dbdaccb9-0925-4684-8a68-75f9a2f005c9",
   "metadata": {},
   "outputs": [
    {
     "name": "stdout",
     "output_type": "stream",
     "text": [
      "Highest Temperature:  32\n",
      "Lowest Temperature:  25\n"
     ]
    }
   ],
   "source": [
    "#Highest and lowest temperature\n",
    "max_temp = np.max(temperature)\n",
    "min_temp = np.min(temperature)\n",
    "print(\"Highest Temperature: \",max_temp)\n",
    "print(\"Lowest Temperature: \",min_temp)"
   ]
  },
  {
   "cell_type": "code",
   "execution_count": 14,
   "id": "bfb5f981-6748-4c55-8a76-d3d45e974220",
   "metadata": {},
   "outputs": [
    {
     "name": "stdout",
     "output_type": "stream",
     "text": [
      "Temperatures in Fahrenheit:  [77.  82.4 87.8 86.  78.8 84.2 89.6]\n"
     ]
    }
   ],
   "source": [
    "#converting to Fahrenheit\n",
    "temperatures_f = temperature*9/5+32\n",
    "print(\"Temperatures in Fahrenheit: \",temperatures_f)"
   ]
  },
  {
   "cell_type": "code",
   "execution_count": 16,
   "id": "969bbef3-e46e-4b9b-b8b8-02bce2d62c71",
   "metadata": {},
   "outputs": [
    {
     "name": "stdout",
     "output_type": "stream",
     "text": [
      "Days above 30:  2\n"
     ]
    }
   ],
   "source": [
    "#days above 30\n",
    "days_above_30 = np.sum(temperature > 30)\n",
    "print(\"Days above 30: \",days_above_30)"
   ]
  },
  {
   "cell_type": "code",
   "execution_count": 18,
   "id": "b9781135-9f29-47e2-97cc-0477d3a6c9b8",
   "metadata": {},
   "outputs": [
    {
     "name": "stdout",
     "output_type": "stream",
     "text": [
      "Noisy temperatures:  [27 27 33 32 26 27 34]\n"
     ]
    }
   ],
   "source": [
    "#analysis extension\n",
    "noise = np.random.randint(-2,3,size = 7) #random values between -2 and 2\n",
    "noisy_temperatures = temperature+noise\n",
    "print(\"Noisy temperatures: \",noisy_temperatures)"
   ]
  },
  {
   "cell_type": "code",
   "execution_count": null,
   "id": "6580b913-028d-48c0-84d7-3f2e27aa72d1",
   "metadata": {},
   "outputs": [],
   "source": []
  }
 ],
 "metadata": {
  "kernelspec": {
   "display_name": "Python [conda env:base] *",
   "language": "python",
   "name": "conda-base-py"
  },
  "language_info": {
   "codemirror_mode": {
    "name": "ipython",
    "version": 3
   },
   "file_extension": ".py",
   "mimetype": "text/x-python",
   "name": "python",
   "nbconvert_exporter": "python",
   "pygments_lexer": "ipython3",
   "version": "3.12.7"
  }
 },
 "nbformat": 4,
 "nbformat_minor": 5
}
