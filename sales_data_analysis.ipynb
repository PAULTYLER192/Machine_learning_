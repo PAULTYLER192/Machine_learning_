{
  "nbformat": 4,
  "nbformat_minor": 0,
  "metadata": {
    "colab": {
      "provenance": [],
      "authorship_tag": "ABX9TyODe+RPm0vompVo5XInBgCX",
      "include_colab_link": true
    },
    "kernelspec": {
      "name": "python3",
      "display_name": "Python 3"
    },
    "language_info": {
      "name": "python"
    }
  },
  "cells": [
    {
      "cell_type": "markdown",
      "metadata": {
        "id": "view-in-github",
        "colab_type": "text"
      },
      "source": [
        "<a href=\"https://colab.research.google.com/github/PAULTYLER192/Machine_learning_/blob/master/sales_data_analysis.ipynb\" target=\"_parent\"><img src=\"https://colab.research.google.com/assets/colab-badge.svg\" alt=\"Open In Colab\"/></a>"
      ]
    },
    {
      "cell_type": "code",
      "execution_count": null,
      "metadata": {
        "id": "jfVaGz6UH4Hp",
        "colab": {
          "base_uri": "https://localhost:8080/"
        },
        "outputId": "f4cc956f-8e2f-4e6f-c0ec-47e18ed99ecc"
      },
      "outputs": [
        {
          "output_type": "stream",
          "name": "stdout",
          "text": [
            "Total revenue for each city:\n",
            "City\n",
            "Kisumu     4300\n",
            "Mombasa    1100\n",
            "Nairobi    2600\n",
            "Name: Revenue, dtype: int64\n",
            "\n",
            "Average profit margin and total quantity sold per product:\n",
            "         AverageProfitMargin  TotalQuantitySold\n",
            "Product                                        \n",
            "Laptop                 0.175                  6\n",
            "Phone                  0.250                  6\n",
            "Tablet                 0.250                  5\n",
            "\n",
            "City with the highest revenue: Kisumu ($4300)\n",
            "\n",
            "Total revenue per region:\n",
            "Region\n",
            "Central    2600\n",
            "Coast      1100\n",
            "Western    4300\n",
            "Name: Revenue, dtype: int64\n"
          ]
        }
      ],
      "source": [
        "import pandas as pd\n",
        "\n",
        "# Sales data\n",
        "sales_data = {\n",
        "    \"OrderID\": [101, 102, 103, 104, 105, 106],\n",
        "    \"City\": [\"Nairobi\", \"Kisumu\", \"Nairobi\", \"Mombasa\", \"Kisumu\", \"Mombasa\"],\n",
        "    \"Product\": [\"Laptop\", \"Phone\", \"Tablet\", \"Phone\", \"Laptop\", \"Tablet\"],\n",
        "    \"Quantity\": [2, 5, 3, 1, 4, 2],\n",
        "    \"PricePerUnit\": [700, 300, 400, 300, 700, 400],\n",
        "    \"ProfitMargin\": [0.2, 0.3, 0.25, 0.2, 0.15, 0.25]\n",
        "}\n",
        "\n",
        "df = pd.DataFrame(sales_data)\n",
        "\n",
        "# Add a Revenue column\n",
        "df['Revenue'] = df['Quantity'] * df['PricePerUnit']\n",
        "\n",
        "# Group by city and calculate total revenue\n",
        "city_revenue = df.groupby('City')['Revenue'].sum()\n",
        "print(\"Total revenue for each city:\")\n",
        "print(city_revenue)\n",
        "\n",
        "# Group by product and calculate aggregations\n",
        "product_stats = df.groupby('Product').agg(\n",
        "    AverageProfitMargin=('ProfitMargin', 'mean'),\n",
        "    TotalQuantitySold=('Quantity', 'sum')\n",
        ")\n",
        "print(\"\\nAverage profit margin and total quantity sold per product:\")\n",
        "print(product_stats)\n",
        "\n",
        "\n",
        "# Find the city with the highest revenue\n",
        "highest_revenue_city = city_revenue.idxmax()\n",
        "highest_revenue_value = city_revenue.max()\n",
        "\n",
        "print(f\"\\nCity with the highest revenue: {highest_revenue_city} (${highest_revenue_value})\")\n",
        "\n",
        "\n",
        "city_region = pd.DataFrame({\n",
        "    \"City\": [\"Nairobi\", \"Kisumu\", \"Mombasa\"],\n",
        "    \"Region\": [\"Central\", \"Western\", \"Coast\"]\n",
        "})\n",
        "\n",
        "# Merge sales_data with city_region\n",
        "merged_df = df.merge(city_region, on='City')\n",
        "\n",
        "# Calculate total revenue per region\n",
        "region_revenue = merged_df.groupby('Region')['Revenue'].sum()\n",
        "print(\"\\nTotal revenue per region:\")\n",
        "print(region_revenue)"
      ]
    }
  ]
}